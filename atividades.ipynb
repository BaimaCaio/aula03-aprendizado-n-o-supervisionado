{
 "cells": [
  {
   "attachments": {},
   "cell_type": "markdown",
   "metadata": {},
   "source": [
    "#### Agrupamento de notícias em tópicos usando o conjunto de dados 20newsgroups: o conjunto de dados 20newsgroups contém notícias agrupadas em 20 tópicos diferentes e pode ser usado para clustering com base em suas características. Você pode usar algoritmos de clustering, como K-Means, para agrupar as notícias em clusters com base em suas características."
   ]
  },
  {
   "attachments": {},
   "cell_type": "markdown",
   "metadata": {},
   "source": [
    "#### Selecionar características importantes do conjunto de dados breast_cancer: usando técnicas de seleção de características, você pode selecionar as características mais importantes do conjunto de dados breast_cancer para modelagem."
   ]
  },
  {
   "attachments": {},
   "cell_type": "markdown",
   "metadata": {},
   "source": [
    "#### Reduzir a dimensão do conjunto de dados digits: usando técnicas de redução de dimensionalidade, você pode reduzir a dimensão do conjunto de dados digits para visualização em duas ou três dimensões."
   ]
  }
 ],
 "metadata": {
  "language_info": {
   "name": "python"
  },
  "orig_nbformat": 4
 },
 "nbformat": 4,
 "nbformat_minor": 2
}
